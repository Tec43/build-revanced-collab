{
  "cells": [
    {
      "cell_type": "markdown",
      "metadata": {
        "id": "view-in-github",
        "colab_type": "text"
      },
      "source": [
        "<a href=\"https://colab.research.google.com/github/Tec43/build-revanced-collab/blob/main/BuildRevYT.ipynb\" target=\"_parent\"><img src=\"https://colab.research.google.com/assets/colab-badge.svg\" alt=\"Open In Colab\"/></a>"
      ]
    },
    {
      "cell_type": "code",
      "execution_count": null,
      "metadata": {
        "id": "amjhNUcrXCMx"
      },
      "outputs": [],
      "source": [
        "!apt upgrade\n",
        "!sleep 3 \n",
        "!wget https://cdn.azul.com/zulu/bin/zulu18.30.11-ca-jdk18.0.1-linux_amd64.deb\n",
        "!sleep 3\n",
        "!sudo apt install ./zulu18.30.11-ca-jdk18.0.1-linux_amd64.deb\n",
        "!java --version\n",
        "!sleep 3\n",
        "!additional_args=\"\" what_to_patch=\"youtube\" sh -c \"$(curl https://raw.githubusercontent.com/XDream8/revanced-creator/main/patch.sh)\""
      ]
    }
  ],
  "metadata": {
    "colab": {
      "collapsed_sections": [],
      "name": "BuildRevYT.ipynb",
      "provenance": [],
      "authorship_tag": "ABX9TyOnXBrREWLXRMM4k2s43Fo9",
      "include_colab_link": true
    },
    "kernelspec": {
      "display_name": "Python 3",
      "name": "python3"
    },
    "language_info": {
      "name": "python"
    }
  },
  "nbformat": 4,
  "nbformat_minor": 0
}